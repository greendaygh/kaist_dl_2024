{
 "cells": [
  {
   "cell_type": "markdown",
   "metadata": {},
   "source": [
    "# Day7 Seq2Seq with AA\n"
   ]
  },
  {
   "cell_type": "markdown",
   "metadata": {},
   "source": [
    "## Encoder with AA"
   ]
  },
  {
   "cell_type": "markdown",
   "metadata": {},
   "source": [
    "### Applications\n",
    "- Input: AA, Output: GO\n",
    "- Input: AA, Output: Secondary structure (Alpha helix H, Beta sheet E, Coil C)\n",
    "- Input: AA, Output: AA (mutant)\n",
    "- Input: AA, Output: AA (input AA)\n",
    "- etc"
   ]
  },
  {
   "cell_type": "markdown",
   "metadata": {},
   "source": [
    "#### Training"
   ]
  },
  {
   "cell_type": "markdown",
   "metadata": {},
   "source": [
    "![](images/seq2seq_aa_training.png)"
   ]
  },
  {
   "cell_type": "markdown",
   "metadata": {},
   "source": [
    "#### Testing"
   ]
  },
  {
   "cell_type": "markdown",
   "metadata": {},
   "source": [
    "![](images/seq2seq_aa_testing.png)"
   ]
  },
  {
   "cell_type": "markdown",
   "metadata": {},
   "source": [
    "### Data generation (simulation)"
   ]
  },
  {
   "cell_type": "markdown",
   "metadata": {},
   "source": [
    "- Random generation of amino acid sequences for source corpus (data)\n",
    "- Transform the source corpus to target corpus with following rules\n",
    "  - A --> T\n",
    "  - R --> N\n",
    "  - N --> R\n",
    "  - D --> C\n",
    "  - C --> D"
   ]
  },
  {
   "cell_type": "markdown",
   "metadata": {},
   "source": [
    "- This seems not a good example for Seq2Seq since random sampling of the source AA sequences produces no sequencial (time-course) information which can be captured by the RNN models  \n"
   ]
  },
  {
   "cell_type": "code",
   "execution_count": 1,
   "metadata": {},
   "outputs": [
    {
     "name": "stdout",
     "output_type": "stream",
     "text": [
      "Source batch shape: torch.Size([4, 10])\n",
      "Source lengths: [10, 10, 10, 10]\n",
      "Target batch shape: torch.Size([4, 10])\n",
      "Target lengths: [10, 10, 10, 10]\n"
     ]
    }
   ],
   "source": [
    "import numpy as np\n",
    "import torch\n",
    "from torch.utils.data import Dataset, DataLoader\n",
    "\n",
    "class Seq2SeqDataset(Dataset):\n",
    "    def __init__(self, source_sequences, target_sequences):\n",
    "        self.source_sequences = source_sequences\n",
    "        self.target_sequences = target_sequences\n",
    "\n",
    "    def __len__(self):\n",
    "        return len(self.source_sequences)\n",
    "\n",
    "    def __getitem__(self, idx):\n",
    "        return self.source_sequences[idx], self.target_sequences[idx]\n",
    "\n",
    "# Example amino acids\n",
    "amino_acids = [\"A\", \"R\", \"N\", \"D\", \"C\", \"Q\", \"E\", \"G\", \"H\", \"I\", \"L\", \"K\", \"M\", \"F\", \"P\", \"S\", \"T\", \"W\", \"Y\", \"V\"]\n",
    "\n",
    "# Generate source sequences\n",
    "num_sequences = 100 # number of samples\n",
    "sequence_length = 10 \n",
    "source_sequences = [\n",
    "    \"\".join(np.random.choice(amino_acids, size=sequence_length)) for _ in range(num_sequences)\n",
    "]\n",
    "\n",
    "# Transformation pattern for generating target sequences\n",
    "def transform_to_target(sequence):\n",
    "    # Example pattern: Reverse the sequence and replace specific amino acids\n",
    "    mapping = {\"A\": \"T\", \"R\": \"N\", \"N\": \"R\", \"D\": \"C\", \"C\": \"D\"}  # Custom substitution rules\n",
    "    transformed = [mapping.get(aa, aa) for aa in sequence]  # substitution\n",
    "    return \"\".join(transformed)\n",
    "\n",
    "# Create target sequences based on the pattern\n",
    "target_sequences = [transform_to_target(seq) for seq in source_sequences]\n",
    "\n",
    "# Build vocabulary\n",
    "vocab = {aa: idx for idx, aa in enumerate(amino_acids)}\n",
    "# include padding token, <pad>, start token <sos> and end token <eos>\n",
    "vocab[\"<pad>\"] = len(vocab)\n",
    "vocab[\"<sos>\"] = len(vocab)\n",
    "vocab[\"<eos>\"] = len(vocab)\n",
    "vocab_size = len(vocab)\n",
    "\n",
    "# Build idx2vocab\n",
    "idx2vocab = {idx: aa for aa, idx in vocab.items()}\n",
    "\n",
    "# Encode sequences into integer indices\n",
    "def encode_sequence(sequence, vocab):\n",
    "    return [vocab[aa] for aa in sequence]\n",
    "\n",
    "encoded_source_sequences = [encode_sequence(seq, vocab) for seq in source_sequences]\n",
    "encoded_target_sequences = [encode_sequence(seq, vocab) for seq in target_sequences]\n",
    "\n",
    "# Collate function for padding\n",
    "# The collate_batch function handles these differences by padding shorter sequences so that \n",
    "# all sequences in a batch have the same length.\n",
    "def collate_batch(batch, vocab_size):\n",
    "    source_batch, target_batch = zip(*batch)\n",
    "    source_lengths = [len(seq) for seq in source_batch]\n",
    "    target_lengths = [len(seq) for seq in target_batch]\n",
    "\n",
    "    # Pad sequences\n",
    "    max_src_len = max(source_lengths)\n",
    "    max_tgt_len = max(target_lengths)\n",
    "    padded_src = torch.zeros(len(source_batch), max_src_len, dtype=torch.long)\n",
    "    padded_tgt = torch.zeros(len(target_batch), max_tgt_len, dtype=torch.long)\n",
    "\n",
    "    for i, seq in enumerate(source_batch):\n",
    "        padded_src[i, :len(seq)] = torch.tensor(seq, dtype=torch.long)\n",
    "    for i, seq in enumerate(target_batch):\n",
    "        padded_tgt[i, :len(seq)] = torch.tensor(seq, dtype=torch.long)\n",
    "\n",
    "    return padded_src, source_lengths, padded_tgt, target_lengths\n",
    "\n",
    "# Create dataset and dataloader\n",
    "# separate training and test data\n",
    "from sklearn.model_selection import train_test_split\n",
    "train_source, test_source, train_target, test_target = train_test_split(encoded_source_sequences, encoded_target_sequences, test_size=0.2)\n",
    "\n",
    "train_dataset = Seq2SeqDataset(train_source, train_target)\n",
    "train_dataloader = DataLoader(train_dataset, batch_size=4, shuffle=True, collate_fn=lambda x: collate_batch(x, vocab_size))\n",
    "\n",
    "test_dataset = Seq2SeqDataset(test_source, test_target)\n",
    "test_dataloader = DataLoader(test_dataset, batch_size=4, shuffle=False, collate_fn=lambda x: collate_batch(x, vocab_size))\n",
    "\n",
    "# Example batch\n",
    "for batch in train_dataloader:\n",
    "    src, src_len, tgt, tgt_len = batch\n",
    "    print(\"Source batch shape:\", src.shape)\n",
    "    print(\"Source lengths:\", src_len)\n",
    "    print(\"Target batch shape:\", tgt.shape)\n",
    "    print(\"Target lengths:\", tgt_len)\n",
    "    break"
   ]
  },
  {
   "cell_type": "code",
   "execution_count": 2,
   "metadata": {},
   "outputs": [
    {
     "name": "stdout",
     "output_type": "stream",
     "text": [
      "80\n",
      "source: ['I', 'Q', 'N', 'M', 'K', 'V', 'E', 'N', 'R', 'V']\n",
      "source: ['I', 'Q', 'R', 'M', 'K', 'V', 'E', 'R', 'N', 'V']\n"
     ]
    }
   ],
   "source": [
    "print(len(train_dataset))\n",
    "print(\"source:\", [idx2vocab[idx] for idx in train_dataset[1][0]])\n",
    "print(\"source:\", [idx2vocab[idx] for idx in train_dataset[1][1]])"
   ]
  },
  {
   "cell_type": "code",
   "execution_count": 3,
   "metadata": {},
   "outputs": [
    {
     "name": "stdout",
     "output_type": "stream",
     "text": [
      "[[-0.09248465 -0.0641915   0.18612689  0.0274397   0.19371666 -0.25644502]\n",
      " [-0.04757743 -0.0494523   0.31501988 -0.00057966  0.07807606 -0.18188952]\n",
      " [-0.09052069 -0.04395     0.2833888  -0.03140928  0.07098679 -0.21327668]\n",
      " [-0.0922599  -0.10990168  0.13042384 -0.07470072  0.16745886 -0.29176635]]\n"
     ]
    }
   ],
   "source": [
    "import torch.nn as nn\n",
    "from torch.utils.data import Dataset, DataLoader\n",
    "\n",
    "\n",
    "# Define the Seq2Seq Encoder\n",
    "class Seq2SeqEncoder(nn.Module):\n",
    "    def __init__(self, vocab_size, embedding_dim, hidden_dim):\n",
    "        super(Seq2SeqEncoder, self).__init__()\n",
    "        self.embedding = nn.Embedding(vocab_size, embedding_dim)\n",
    "        self.lstm = nn.LSTM(embedding_dim, hidden_dim, batch_first=True)\n",
    "\n",
    "    def forward(self, x, lengths):\n",
    "        # Embed the input\n",
    "        embedded = self.embedding(x)\n",
    "        # Pack padded sequences for efficiency\n",
    "        packed_embedded = nn.utils.rnn.pack_padded_sequence(embedded, lengths, batch_first=True, enforce_sorted=False)\n",
    "        packed_output, (hidden, cell) = self.lstm(packed_embedded)\n",
    "        return hidden, cell\n",
    "\n",
    "# Initialize the encoder\n",
    "embedding_dim = 2\n",
    "hidden_dim = 6\n",
    "encoder = Seq2SeqEncoder(vocab_size, embedding_dim, hidden_dim)\n",
    "\n",
    "# Encode full corpus\n",
    "encoded_corpus = []\n",
    "\n",
    "for batch in train_dataloader:\n",
    "    src, src_len, tgt, tgt_len = batch\n",
    "    hidden, cell = encoder(src, src_len)\n",
    "    encoded_corpus.append(hidden.squeeze(0).detach().numpy())\n",
    "    \n",
    "encoded_corpus = np.array(encoded_corpus)\n",
    "print(encoded_corpus[9])\n",
    "\n"
   ]
  },
  {
   "cell_type": "markdown",
   "metadata": {},
   "source": [
    "### Encoder with the AA simulation data"
   ]
  },
  {
   "cell_type": "markdown",
   "metadata": {},
   "source": [
    "![](images/rnn_encoder.png)"
   ]
  },
  {
   "cell_type": "markdown",
   "metadata": {},
   "source": [
    "## Decoder\n",
    "\n",
    "- The decoder generates the output sequence step-by-step, conditioned on the latent representation provided by the encoder\n",
    "- The decoder typically consists of an RNN-based architecture, such as an LSTM or GRU, and operates sequentially."
   ]
  },
  {
   "cell_type": "markdown",
   "metadata": {},
   "source": [
    "### Embedding Layer\n",
    "\n",
    "- Converts input indices (target tokens) into dense vectors.\n",
    "\n",
    "### RNN Layer\n",
    "- Generates hidden states based on embeddings and previous hidden states.\n",
    "\n",
    "### Linear Layer\n",
    "- Maps the hidden states to the output vocabulary space.\n",
    "\n",
    "### Softmax Layer\n",
    "- Converts raw scores (logits) into probabilities over the vocabulary."
   ]
  },
  {
   "cell_type": "markdown",
   "metadata": {},
   "source": [
    "![](images/decoder1.png)"
   ]
  },
  {
   "cell_type": "markdown",
   "metadata": {},
   "source": [
    "### Teacher forcing\n",
    "\n",
    "- At each time step, the decoder receives\n",
    "    - The actual token from the target sequence as input.\n",
    "    - The hidden states from the previous step (or from the encoder for the first step).\n",
    "\n",
    "- Teacher forcing speeds up training but may cause discrepancies during inference"
   ]
  },
  {
   "cell_type": "markdown",
   "metadata": {},
   "source": [
    "![](images/decoder2.png)"
   ]
  },
  {
   "cell_type": "code",
   "execution_count": 4,
   "metadata": {},
   "outputs": [
    {
     "name": "stdout",
     "output_type": "stream",
     "text": [
      "Output shape: torch.Size([1, 23])\n",
      "Output logits: tensor([[-0.1398, -0.2956, -0.2980,  0.0858,  0.1237,  0.1057,  0.3337, -0.3297,\n",
      "          0.2189,  0.5317, -0.2042,  0.4581, -0.5091,  0.0449,  0.2366,  0.0172,\n",
      "         -0.2210, -0.0420,  0.1937,  0.5022, -0.1554,  0.1373, -0.3813]],\n",
      "       grad_fn=<AddmmBackward0>)\n"
     ]
    }
   ],
   "source": [
    "import torch\n",
    "import torch.nn as nn\n",
    "\n",
    "# Define the Seq2Seq Decoder\n",
    "class Seq2SeqDecoder(nn.Module):\n",
    "    def __init__(self, vocab_size, embedding_dim, hidden_dim):\n",
    "        super(Seq2SeqDecoder, self).__init__()\n",
    "        self.embedding = nn.Embedding(vocab_size, embedding_dim)\n",
    "        self.lstm = nn.LSTM(embedding_dim, hidden_dim, batch_first=True)\n",
    "        self.fc = nn.Linear(hidden_dim, vocab_size)\n",
    "\n",
    "    def forward(self, input_token, hidden, cell):\n",
    "        # Embed the input token (shape: [batch_size, 1] -> [batch_size, 1, embedding_dim])\n",
    "        embedded = self.embedding(input_token)\n",
    "        \n",
    "        # Pass through LSTM (input shape: [batch_size, 1, embedding_dim])\n",
    "        output, (hidden, cell) = self.lstm(embedded, (hidden, cell))\n",
    "        \n",
    "        # Predict the next token (shape: [batch_size, vocab_size])\n",
    "        prediction = self.fc(output.squeeze(1))  # Remove time step dimension\n",
    "        return prediction, hidden, cell\n",
    "\n",
    "# Initialize the decoder\n",
    "decoder = Seq2SeqDecoder(vocab_size, embedding_dim, hidden_dim)\n",
    "\n",
    "# Example usage\n",
    "input_token = torch.tensor([[vocab[\"A\"]]], dtype=torch.long)  # Example token for batch of 1\n",
    "hidden = torch.zeros(1, 1, hidden_dim)  # Example initial hidden state (batch_size=1)\n",
    "cell = torch.zeros(1, 1, hidden_dim)  # Example initial cell state\n",
    "\n",
    "# Run the decoder for one step\n",
    "output, hidden, cell = decoder(input_token, hidden, cell)\n",
    "print(\"Output shape:\", output.shape)  # Shape: [1, vocab_size]\n",
    "print(\"Output logits:\", output)\n"
   ]
  },
  {
   "cell_type": "code",
   "execution_count": 7,
   "metadata": {},
   "outputs": [
    {
     "name": "stdout",
     "output_type": "stream",
     "text": [
      "Epoch 10/200, Loss: 57.4886, Accuracy: 0.0556\n",
      "Epoch 20/200, Loss: 52.1602, Accuracy: 0.1389\n",
      "Epoch 30/200, Loss: 47.4374, Accuracy: 0.3333\n",
      "Epoch 40/200, Loss: 44.0367, Accuracy: 0.1667\n",
      "Epoch 50/200, Loss: 40.4599, Accuracy: 0.3333\n",
      "Epoch 60/200, Loss: 37.7158, Accuracy: 0.4167\n",
      "Epoch 70/200, Loss: 34.7451, Accuracy: 0.4167\n",
      "Epoch 80/200, Loss: 32.2428, Accuracy: 0.3889\n",
      "Epoch 90/200, Loss: 29.3615, Accuracy: 0.5000\n",
      "Epoch 100/200, Loss: 26.6271, Accuracy: 0.6667\n",
      "Epoch 110/200, Loss: 24.2859, Accuracy: 0.5000\n",
      "Epoch 120/200, Loss: 22.2528, Accuracy: 0.5833\n",
      "Epoch 130/200, Loss: 20.1117, Accuracy: 0.6111\n",
      "Epoch 140/200, Loss: 17.5407, Accuracy: 0.7778\n",
      "Epoch 150/200, Loss: 16.5021, Accuracy: 1.0000\n",
      "Epoch 160/200, Loss: 14.4618, Accuracy: 0.8611\n",
      "Epoch 170/200, Loss: 12.8725, Accuracy: 0.9444\n",
      "Epoch 180/200, Loss: 10.0443, Accuracy: 0.9444\n",
      "Epoch 190/200, Loss: 9.2519, Accuracy: 0.9444\n",
      "Epoch 200/200, Loss: 8.1779, Accuracy: 1.0000\n"
     ]
    }
   ],
   "source": [
    "\n",
    "import torch\n",
    "import torch.nn as nn\n",
    "import torch.optim as optim\n",
    "import numpy as np\n",
    "from torch.utils.data import DataLoader\n",
    "\n",
    "# Define Seq2Seq model\n",
    "class Seq2Seq(nn.Module):\n",
    "    def __init__(self, vocab_size, embedding_dim, hidden_dim):\n",
    "        super(Seq2Seq, self).__init__()\n",
    "        self.encoder = Seq2SeqEncoder(vocab_size, embedding_dim, hidden_dim)\n",
    "        self.decoder = Seq2SeqDecoder(vocab_size, embedding_dim, hidden_dim)\n",
    "\n",
    "    def forward(self, src, src_lengths, tgt, teacher_forcing_ratio=0.5):\n",
    "        # Encode the source sequence\n",
    "        hidden, cell = self.encoder(src, src_lengths)\n",
    "        \n",
    "        # Initialize decoder input (start token, e.g., the first token in tgt)\n",
    "        batch_size = tgt.size(0)\n",
    "        tgt_length = tgt.size(1)\n",
    "        outputs = torch.zeros(batch_size, tgt_length, vocab_size).to(src.device)\n",
    "\n",
    "        input_token = tgt[:, 0]  # The first input to the decoder\n",
    "\n",
    "        for t in range(1, tgt_length):\n",
    "            # Decode one step\n",
    "            output, hidden, cell = self.decoder(input_token.unsqueeze(1), hidden, cell)\n",
    "            outputs[:, t, :] = output  # Store output for this time step\n",
    "\n",
    "            # Decide whether to use teacher forcing\n",
    "            teacher_force = torch.rand(1).item() < teacher_forcing_ratio\n",
    "            input_token = tgt[:, t] if teacher_force else output.argmax(1)\n",
    "\n",
    "        return outputs\n",
    "\n",
    "# Hyperparameters\n",
    "embedding_dim = 16\n",
    "hidden_dim = 32 \n",
    "vocab_size = len(vocab)\n",
    "learning_rate = 0.001\n",
    "epochs = 200\n",
    "teacher_forcing_ratio = 0.5\n",
    "\n",
    "# Initialize model, optimizer, and loss function\n",
    "model = Seq2Seq(vocab_size, embedding_dim, hidden_dim)\n",
    "\n",
    "# device = torch.device(\"cuda\" if torch.cuda.is_available() else \"cpu\")\n",
    "device = \"cpu\"\n",
    "model = model.to(device)\n",
    "\n",
    "optimizer = optim.Adam(model.parameters(), lr=learning_rate)\n",
    "criterion = nn.CrossEntropyLoss(ignore_index=0)  # Ignore padding index\n",
    "\n",
    "loss_all = []\n",
    "accuracy_all = []\n",
    "\n",
    "# Training loop\n",
    "for epoch in range(epochs):\n",
    "    model.train()\n",
    "    total_loss = 0\n",
    "    for batch in train_dataloader:\n",
    "        src, src_len, tgt, tgt_len = batch\n",
    "        src, tgt = src.to(device), tgt.to(device)\n",
    "\n",
    "        optimizer.zero_grad()\n",
    "        outputs = model(src, src_len, tgt, teacher_forcing_ratio)\n",
    "\n",
    "        # Compute loss\n",
    "        # Reshape to compare all predictions across the batch\n",
    "        outputs = outputs[:, 1:].reshape(-1, vocab_size)  # Skip <start> token\n",
    "        tgt = tgt[:, 1:].reshape(-1)  # Skip <start> token in targets\n",
    "        loss = criterion(outputs, tgt)\n",
    "        loss.backward()\n",
    "        optimizer.step()\n",
    "        total_loss += loss.item()\n",
    "    \n",
    "    ## compute accuracy\n",
    "    outputs = outputs.argmax(dim=1)\n",
    "    correct = outputs.eq(tgt)\n",
    "    accuracy = correct.sum().float() / tgt.size(0)\n",
    "    loss_all.append(total_loss)\n",
    "    accuracy_all.append(accuracy)\n",
    "\n",
    "    if (epoch + 1) % 10 == 0:\n",
    "        print(f\"Epoch {epoch + 1}/{epochs}, Loss: {total_loss:.4f}, Accuracy: {accuracy:.4f}\")\n",
    "\n",
    "# Save the trained model\n",
    "torch.save(model.state_dict(), \"seq2seq_model.pth\")\n"
   ]
  },
  {
   "cell_type": "code",
   "execution_count": 8,
   "metadata": {},
   "outputs": [
    {
     "data": {
      "image/png": "[encoded data removed]",
      "text/plain": [
       "<Figure size 800x600 with 1 Axes>"
      ]
     },
     "metadata": {},
     "output_type": "display_data"
    },
    {
     "data": {
      "image/png": "[encoded data removed]",
      "text/plain": [
       "<Figure size 640x480 with 1 Axes>"
      ]
     },
     "metadata": {},
     "output_type": "display_data"
    }
   ],
   "source": [
    "## plot the loss and accuracy\n",
    "import matplotlib.pyplot as plt \n",
    "\n",
    "## plot the loss\n",
    "plt.figure(figsize=(8, 6))\n",
    "plt.plot(loss_all)\n",
    "plt.title(\"Training Loss Over Epochs\")\n",
    "plt.xlabel(\"Epochs\")\n",
    "plt.ylabel(\"Loss\")\n",
    "plt.grid()\n",
    "plt.show()\n",
    "\n",
    "\n",
    "plt.plot(accuracy_all)\n",
    "plt.title(\"Training Accuracy Over Epochs\")\n",
    "plt.xlabel(\"Epochs\")\n",
    "plt.ylabel(\"Accuracy\")\n",
    "plt.grid()\n",
    "plt.show()"
   ]
  },
  {
   "cell_type": "markdown",
   "metadata": {},
   "source": [
    "- It shows overfitting\n",
    "- Need discussions \n",
    "  - Purpose of analysis\n",
    "  - Types of source and target data\n",
    "  - Data collection \n",
    "  - Data size"
   ]
  },
  {
   "cell_type": "code",
   "execution_count": 9,
   "metadata": {},
   "outputs": [
    {
     "name": "stdout",
     "output_type": "stream",
     "text": [
      "Test Loss: 20.1531, Test Accuracy: 0.0833\n",
      "Source sequence: ['M', 'V', 'K', 'P', 'P', 'P', 'F', 'G', 'A', 'E']\n",
      "Target sequence: ['M', 'V', 'K', 'P', 'P', 'P', 'F', 'G', 'T', 'E']\n",
      "Predic sequence: ['A', 'P', 'N', 'C', 'E', 'H', 'C', 'G', 'L', 'R']\n"
     ]
    }
   ],
   "source": [
    "# Load the model\n",
    "model.load_state_dict(torch.load(\"seq2seq_model.pth\", weights_only=False))\n",
    "\n",
    "# test the model\n",
    "model.eval()\n",
    "total_loss = 0\n",
    "total_accuracy = 0\n",
    "for batch in test_dataloader:\n",
    "    src, src_len, tgt, tgt_len = batch\n",
    "    src, tgt = src.to(torch.device(\"cpu\")), tgt.to(torch.device(\"cpu\"))\n",
    "\n",
    "    outputs = model(src, src_len, tgt, teacher_forcing_ratio=0)\n",
    "    outputs = outputs[:, 1:].reshape(-1, vocab_size)  # Skip <sos> token\n",
    "    tgt = tgt[:, 1:].reshape(-1)  # Skip <sos> token in targets\n",
    "    loss = criterion(outputs, tgt)\n",
    "    total_loss += loss.item()\n",
    "\n",
    "# Compute accuracy\n",
    "outputs = outputs.argmax(dim=1)\n",
    "correct = outputs.eq(tgt)\n",
    "accuracy = correct.sum().float() / tgt.size(0)\n",
    "total_accuracy += accuracy\n",
    "\n",
    "## print the loss and accuracy\n",
    "print(f\"Test Loss: {total_loss:.4f}, Test Accuracy: {total_accuracy:.4f}\")\n",
    "\n",
    "# Decode the output\n",
    "def decode_output(output, idx2vocab):\n",
    "    decoded_output = [idx2vocab[idx] for idx in output]\n",
    "    return decoded_output\n",
    "\n",
    "# Example usage\n",
    "src, tgt = test_dataset[6]\n",
    "# convert to tensor\n",
    "src = torch.tensor(src).unsqueeze(0)\n",
    "tgt = torch.tensor(tgt).unsqueeze(0)\n",
    "src_len = [len(src)]\n",
    "\n",
    "outputs = model(src, src_len, tgt, teacher_forcing_ratio=0)\n",
    "outputs = outputs.argmax(dim=2).squeeze(0).tolist()\n",
    "decoded_output = decode_output(outputs, idx2vocab)\n",
    "print(\"Source sequence:\", [idx2vocab[idx] for idx in src.squeeze(0).tolist()])\n",
    "print(\"Target sequence:\", [idx2vocab[idx] for idx in tgt.squeeze(0).tolist()])\n",
    "print(\"Predic sequence:\", decoded_output)\n",
    "\n"
   ]
  },
  {
   "cell_type": "code",
   "execution_count": 76,
   "metadata": {},
   "outputs": [
    {
     "name": "stdout",
     "output_type": "stream",
     "text": [
      "Source Sequence: ['A', 'T', 'A', 'C', 'A', 'C', 'G', 'G', 'T', 'T', 'T', 'C', 'T', 'T', 'G', 'A', 'T', 'A', 'C', 'G', 'G', 'T', 'G', 'C', 'T', 'C', 'T', 'T', 'A', 'T', 'T', 'T', 'T', 'A', 'A', 'T', 'A', 'A', 'T', 'G', 'G', 'G', 'A', 'C', 'G', 'G', 'A', 'T', 'T', 'C']\n",
      "Target Sequence: ['.', '.', '.', '(', '(', '(', '.', '(', '(', '.', '.', '.', '.', '.', '.', '.', '.', ')', ')', '.', ')', ')', ')', '.', '(', '(', '(', '(', '(', '(', '(', '.', '.', '.', '.', '.', ')', ')', ')', ')', ')', ')', ')', '.', '.', '.', '.', '.', '.', '.']\n",
      "Predicted Sequence: ['A', '(', '(', '(', '(', '(', '(', '(', '(', '(', '(', '(', '(', '.', '.', '.', '.', '.', '.', '.', '.', '.', '.', '.', '.', '.', '.', '.', '.', ')', ')', ')', ')', ')', ')', ')', ')', ')', ')', ')', ')', ')', '.', '.', '.', '.', '.', '.', '.', '.']\n"
     ]
    }
   ],
   "source": [
    "# Load the model\n",
    "model.load_state_dict(torch.load(\"seq2seq_model.pth\", weights_only=False))\n",
    "model.eval()\n",
    "idx = 4\n",
    "# Example source sequence\n",
    "example_src = torch.tensor([test_source[idx]], dtype=torch.long)\n",
    "example_src_len = [len(test_source[idx])]\n",
    "\n",
    "# Target placeholder (not used during inference)\n",
    "example_tgt = torch.tensor([test_target[idx]], dtype=torch.long)\n",
    "\n",
    "# Generate output\n",
    "output = model(example_src, example_src_len, example_tgt, teacher_forcing_ratio=0)\n",
    "predicted_indices = output.argmax(2).squeeze(0).tolist()\n",
    "\n",
    "# Decode the predicted sequence\n",
    "predicted_sequence = [idx2vocab[idx] for idx in predicted_indices]\n",
    "print(\"Source Sequence:\", [idx2vocab[idx] for idx in encoded_source_sequences[idx]])\n",
    "print(\"Target Sequence:\", [idx2vocab[idx] for idx in encoded_target_sequences[idx]])\n",
    "print(\"Predicted Sequence:\", predicted_sequence)\n"
   ]
  }
 ],
 "metadata": {
  "kernelspec": {
   "display_name": "kaist-prog",
   "language": "python",
   "name": "python3"
  },
  "language_info": {
   "codemirror_mode": {
    "name": "ipython",
    "version": 3
   },
   "file_extension": ".py",
   "mimetype": "text/x-python",
   "name": "python",
   "nbconvert_exporter": "python",
   "pygments_lexer": "ipython3",
   "version": "3.11.10"
  }
 },
 "nbformat": 4,
 "nbformat_minor": 2
}
