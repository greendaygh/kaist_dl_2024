{
 "cells": [
  {
   "cell_type": "markdown",
   "metadata": {
    "id": "_YKyZf-8rok0"
   },
   "source": [
    "## Day1 Optimization \n",
    "\n",
    "- Learn python for biological data analysis with chatGPT\n",
    "- colab의 default working directory에 개인의 google drive 연결"
   ]
  },
  {
   "cell_type": "code",
   "execution_count": null,
   "metadata": {
    "colab": {
     "base_uri": "https://localhost:8080/"
    },
    "id": "ubnCHxnxrsmq",
    "outputId": "9fac89b2-a8e5-4e4a-8aa7-a9e72c501b6e"
   },
   "outputs": [],
   "source": [
    "from google.colab import drive\n",
    "drive.mount('/content/drive')"
   ]
  },
  {
   "cell_type": "markdown",
   "metadata": {
    "id": "78rsJZKorok2"
   },
   "source": [
    "### Introduction of Google Colab\n",
    "\n",
    "#### Access Google Colab\n",
    "- Go to [Google Colab](https://colab.research.google.com/) in your web browser.\n",
    "- Sign in with your Google account.\n",
    "\n",
    "#### Create a New Notebook\n",
    "- Click on `File` -> `New Notebook` to create a new notebook.\n",
    "\n",
    "#### Install Required Libraries\n",
    "Google Colab comes with many libraries pre-installed, but you might need to install some additional ones, such as `biopython` and `scikit-bio`. You can do this using the `!pip install` command directly in a cell.\n"
   ]
  },
  {
   "cell_type": "code",
   "execution_count": null,
   "metadata": {
    "colab": {
     "base_uri": "https://localhost:8080/"
    },
    "collapsed": true,
    "id": "rv4KyQr2snnI",
    "outputId": "0e80e3cb-7d37-4a8f-cbaf-a391a03d6aec"
   },
   "outputs": [],
   "source": [
    "!pip install biopython scikit-bio matplotlib"
   ]
  },
  {
   "cell_type": "code",
   "execution_count": null,
   "metadata": {},
   "outputs": [],
   "source": [
    "!pip install scikit-bio"
   ]
  },
  {
   "cell_type": "markdown",
   "metadata": {
    "id": "rT6htntatDIp"
   },
   "source": [
    "#### Import Libraries and Verify Installation\n",
    "In a new code cell, import the libraries to ensure they are installed correctly.\n"
   ]
  },
  {
   "cell_type": "code",
   "execution_count": 1,
   "metadata": {
    "colab": {
     "base_uri": "https://localhost:8080/",
     "height": 384
    },
    "id": "2gtpTH7Ts4Qu",
    "outputId": "c65f85bd-8294-4606-e90e-586fe7170cc6"
   },
   "outputs": [
    {
     "name": "stdout",
     "output_type": "stream",
     "text": [
      "Biopython version: 1.84\n",
      "scikit-bio version: 0.6.2\n"
     ]
    }
   ],
   "source": [
    "# Importing necessary libraries\n",
    "import Bio\n",
    "import skbio\n",
    "\n",
    "print(\"Biopython version:\", Bio.__version__)\n",
    "print(\"scikit-bio version:\", skbio.__version__)"
   ]
  },
  {
   "cell_type": "markdown",
   "metadata": {
    "id": "E7NuKRh7tiw9"
   },
   "source": [
    "\n",
    "#### Upload Files to Colab\n",
    "\n",
    "- Create `2024-kaist-lecture` folder\n",
    "\n",
    "- ipynb file open with colab\n",
    "\n",
    "- Download ganbank files from ncbi and upload the files\n"
   ]
  },
  {
   "cell_type": "markdown",
   "metadata": {
    "id": "xvlLkSRALwww"
   },
   "source": [
    "- current directory"
   ]
  },
  {
   "cell_type": "code",
   "execution_count": 2,
   "metadata": {
    "colab": {
     "base_uri": "https://localhost:8080/"
    },
    "id": "uSljBUEFtwws",
    "outputId": "b07334f5-df6e-433d-e8df-a62fb1d98882"
   },
   "outputs": [
    {
     "name": "stdout",
     "output_type": "stream",
     "text": [
      "/home/haseong/lecture/kaist-deeplearning-2024\n"
     ]
    }
   ],
   "source": [
    "!pwd"
   ]
  },
  {
   "cell_type": "markdown",
   "metadata": {
    "id": "VyltQcUkLwww"
   },
   "source": [
    "- 현재 작업 디렉토리를 위 생성한 디렉토리로 변경"
   ]
  },
  {
   "cell_type": "code",
   "execution_count": null,
   "metadata": {
    "id": "mKo9BPn7uB_s"
   },
   "outputs": [],
   "source": [
    "import os\n",
    "os.chdir('drive/MyDrive/2024-kaist-lecture')"
   ]
  },
  {
   "cell_type": "code",
   "execution_count": null,
   "metadata": {
    "colab": {
     "base_uri": "https://localhost:8080/"
    },
    "id": "8rxO6Su_uQcM",
    "outputId": "5c1878e5-992d-47ff-e946-75b820f1b778"
   },
   "outputs": [
    {
     "name": "stdout",
     "output_type": "stream",
     "text": [
      "/content/drive/MyDrive/2024-kaist-lecture\n"
     ]
    }
   ],
   "source": [
    "!pwd"
   ]
  },
  {
   "cell_type": "markdown",
   "metadata": {
    "id": "yAmO8OvgLwww"
   },
   "source": [
    "- 분석을 위한 genbank 등의 파일을 ncbi에서 다운로드 후 위 폴더에 복사\n",
    "- 또는 아래 코드를 이용해서 현재 작업 디렉토리에 업로드"
   ]
  },
  {
   "cell_type": "code",
   "execution_count": null,
   "metadata": {
    "colab": {
     "base_uri": "https://localhost:8080/",
     "height": 94
    },
    "id": "-uxkDzy8tmJt",
    "outputId": "de42a665-c59c-46c8-efe9-f000a88cf920"
   },
   "outputs": [
    {
     "data": {
      "text/html": [
       "\n",
       "     <input type=\"file\" id=\"files-29ceb87f-630f-4300-b32e-abf577f65510\" name=\"files[]\" multiple disabled\n",
       "        style=\"border:none\" />\n",
       "     <output id=\"result-29ceb87f-630f-4300-b32e-abf577f65510\">\n",
       "      Upload widget is only available when the cell has been executed in the\n",
       "      current browser session. Please rerun this cell to enable.\n",
       "      </output>\n",
       "      <script>// Copyright 2017 Google LLC\n",
       "//\n",
       "// Licensed under the Apache License, Version 2.0 (the \"License\");\n",
       "// you may not use this file except in compliance with the License.\n",
       "// You may obtain a copy of the License at\n",
       "//\n",
       "//      http://www.apache.org/licenses/LICENSE-2.0\n",
       "//\n",
       "// Unless required by applicable law or agreed to in writing, software\n",
       "// distributed under the License is distributed on an \"AS IS\" BASIS,\n",
       "// WITHOUT WARRANTIES OR CONDITIONS OF ANY KIND, either express or implied.\n",
       "// See the License for the specific language governing permissions and\n",
       "// limitations under the License.\n",
       "\n",
       "/**\n",
       " * @fileoverview Helpers for google.colab Python module.\n",
       " */\n",
       "(function(scope) {\n",
       "function span(text, styleAttributes = {}) {\n",
       "  const element = document.createElement('span');\n",
       "  element.textContent = text;\n",
       "  for (const key of Object.keys(styleAttributes)) {\n",
       "    element.style[key] = styleAttributes[key];\n",
       "  }\n",
       "  return element;\n",
       "}\n",
       "\n",
       "// Max number of bytes which will be uploaded at a time.\n",
       "const MAX_PAYLOAD_SIZE = 100 * 1024;\n",
       "\n",
       "function _uploadFiles(inputId, outputId) {\n",
       "  const steps = uploadFilesStep(inputId, outputId);\n",
       "  const outputElement = document.getElementById(outputId);\n",
       "  // Cache steps on the outputElement to make it available for the next call\n",
       "  // to uploadFilesContinue from Python.\n",
       "  outputElement.steps = steps;\n",
       "\n",
       "  return _uploadFilesContinue(outputId);\n",
       "}\n",
       "\n",
       "// This is roughly an async generator (not supported in the browser yet),\n",
       "// where there are multiple asynchronous steps and the Python side is going\n",
       "// to poll for completion of each step.\n",
       "// This uses a Promise to block the python side on completion of each step,\n",
       "// then passes the result of the previous step as the input to the next step.\n",
       "function _uploadFilesContinue(outputId) {\n",
       "  const outputElement = document.getElementById(outputId);\n",
       "  const steps = outputElement.steps;\n",
       "\n",
       "  const next = steps.next(outputElement.lastPromiseValue);\n",
       "  return Promise.resolve(next.value.promise).then((value) => {\n",
       "    // Cache the last promise value to make it available to the next\n",
       "    // step of the generator.\n",
       "    outputElement.lastPromiseValue = value;\n",
       "    return next.value.response;\n",
       "  });\n",
       "}\n",
       "\n",
       "/**\n",
       " * Generator function which is called between each async step of the upload\n",
       " * process.\n",
       " * @param {string} inputId Element ID of the input file picker element.\n",
       " * @param {string} outputId Element ID of the output display.\n",
       " * @return {!Iterable<!Object>} Iterable of next steps.\n",
       " */\n",
       "function* uploadFilesStep(inputId, outputId) {\n",
       "  const inputElement = document.getElementById(inputId);\n",
       "  inputElement.disabled = false;\n",
       "\n",
       "  const outputElement = document.getElementById(outputId);\n",
       "  outputElement.innerHTML = '';\n",
       "\n",
       "  const pickedPromise = new Promise((resolve) => {\n",
       "    inputElement.addEventListener('change', (e) => {\n",
       "      resolve(e.target.files);\n",
       "    });\n",
       "  });\n",
       "\n",
       "  const cancel = document.createElement('button');\n",
       "  inputElement.parentElement.appendChild(cancel);\n",
       "  cancel.textContent = 'Cancel upload';\n",
       "  const cancelPromise = new Promise((resolve) => {\n",
       "    cancel.onclick = () => {\n",
       "      resolve(null);\n",
       "    };\n",
       "  });\n",
       "\n",
       "  // Wait for the user to pick the files.\n",
       "  const files = yield {\n",
       "    promise: Promise.race([pickedPromise, cancelPromise]),\n",
       "    response: {\n",
       "      action: 'starting',\n",
       "    }\n",
       "  };\n",
       "\n",
       "  cancel.remove();\n",
       "\n",
       "  // Disable the input element since further picks are not allowed.\n",
       "  inputElement.disabled = true;\n",
       "\n",
       "  if (!files) {\n",
       "    return {\n",
       "      response: {\n",
       "        action: 'complete',\n",
       "      }\n",
       "    };\n",
       "  }\n",
       "\n",
       "  for (const file of files) {\n",
       "    const li = document.createElement('li');\n",
       "    li.append(span(file.name, {fontWeight: 'bold'}));\n",
       "    li.append(span(\n",
       "        `(${file.type || 'n/a'}) - ${file.size} bytes, ` +\n",
       "        `last modified: ${\n",
       "            file.lastModifiedDate ? file.lastModifiedDate.toLocaleDateString() :\n",
       "                                    'n/a'} - `));\n",
       "    const percent = span('0% done');\n",
       "    li.appendChild(percent);\n",
       "\n",
       "    outputElement.appendChild(li);\n",
       "\n",
       "    const fileDataPromise = new Promise((resolve) => {\n",
       "      const reader = new FileReader();\n",
       "      reader.onload = (e) => {\n",
       "        resolve(e.target.result);\n",
       "      };\n",
       "      reader.readAsArrayBuffer(file);\n",
       "    });\n",
       "    // Wait for the data to be ready.\n",
       "    let fileData = yield {\n",
       "      promise: fileDataPromise,\n",
       "      response: {\n",
       "        action: 'continue',\n",
       "      }\n",
       "    };\n",
       "\n",
       "    // Use a chunked sending to avoid message size limits. See b/62115660.\n",
       "    let position = 0;\n",
       "    do {\n",
       "      const length = Math.min(fileData.byteLength - position, MAX_PAYLOAD_SIZE);\n",
       "      const chunk = new Uint8Array(fileData, position, length);\n",
       "      position += length;\n",
       "\n",
       "      const base64 = btoa(String.fromCharCode.apply(null, chunk));\n",
       "      yield {\n",
       "        response: {\n",
       "          action: 'append',\n",
       "          file: file.name,\n",
       "          data: base64,\n",
       "        },\n",
       "      };\n",
       "\n",
       "      let percentDone = fileData.byteLength === 0 ?\n",
       "          100 :\n",
       "          Math.round((position / fileData.byteLength) * 100);\n",
       "      percent.textContent = `${percentDone}% done`;\n",
       "\n",
       "    } while (position < fileData.byteLength);\n",
       "  }\n",
       "\n",
       "  // All done.\n",
       "  yield {\n",
       "    response: {\n",
       "      action: 'complete',\n",
       "    }\n",
       "  };\n",
       "}\n",
       "\n",
       "scope.google = scope.google || {};\n",
       "scope.google.colab = scope.google.colab || {};\n",
       "scope.google.colab._files = {\n",
       "  _uploadFiles,\n",
       "  _uploadFilesContinue,\n",
       "};\n",
       "})(self);\n",
       "</script> "
      ],
      "text/plain": [
       "<IPython.core.display.HTML object>"
      ]
     },
     "metadata": {},
     "output_type": "display_data"
    },
    {
     "name": "stdout",
     "output_type": "stream",
     "text": [
      "Saving nn.png to nn.png\n",
      "nn.png\n"
     ]
    }
   ],
   "source": [
    "from google.colab import files\n",
    "\n",
    "uploaded = files.upload()\n",
    "\n",
    "# Listing the uploaded files\n",
    "for filename in uploaded.keys():\n",
    "    print(filename)"
   ]
  },
  {
   "cell_type": "markdown",
   "metadata": {
    "id": "LSgmSk_opT2n"
   },
   "source": [
    "![image.png](data:image/png;base64,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)"
   ]
  },
  {
   "cell_type": "markdown",
   "metadata": {
    "id": "zfKclVg6oiv3"
   },
   "source": [
    "### pytorch"
   ]
  },
  {
   "cell_type": "markdown",
   "metadata": {
    "id": "QNn6BfB5osxP"
   },
   "source": [
    "PyTorch is an open-source deep learning framework developed by Facebook's AI Research lab (FAIR). It is widely used in research and industry due to its dynamic computation graph and ease of use.\n",
    "\n",
    "PyTorch Ecosystem Overview:\n",
    "\n",
    "torch: The core library for tensor operations and automatic differentiation.  \n",
    "torch.nn: A sub-library used to build and train neural network models.  \n",
    "torch.optim: Tools for optimization algorithms (e.g., SGD, Adam).  \n",
    "torchvision: Provides datasets, pre-trained models, and image transformations.  "
   ]
  },
  {
   "cell_type": "markdown",
   "metadata": {},
   "source": [
    "### NumPy\n",
    "\n",
    "NumPy is a powerful library for numerical operations and handling arrays.\n",
    "\n",
    "#### Basics of NumPy\n",
    "\n",
    "**Installation:**\n",
    "```bash\n",
    "!pip install numpy\n",
    "```\n"
   ]
  },
  {
   "cell_type": "code",
   "execution_count": 6,
   "metadata": {},
   "outputs": [
    {
     "name": "stdout",
     "output_type": "stream",
     "text": [
      "[1 2 3 4 5]\n",
      "[[1 2 3]\n",
      " [4 5 6]]\n",
      "[ 2  4  6  8 10]\n",
      "[1.         1.41421356 1.73205081 2.         2.23606798]\n"
     ]
    }
   ],
   "source": [
    "import numpy as np\n",
    "\n",
    "\n",
    "# Creating a 1D array\n",
    "arr1 = np.array([1, 2, 3, 4, 5])\n",
    "\n",
    "# Creating a 2D array\n",
    "arr2 = np.array([[1, 2, 3], [4, 5, 6]])\n",
    "\n",
    "print(arr1)\n",
    "print(arr2)\n",
    "\n",
    "\n",
    "# Element-wise operations\n",
    "arr3 = arr1 * 2\n",
    "print(arr3)\n",
    "\n",
    "# Mathematical functions\n",
    "print(np.sqrt(arr1))\n"
   ]
  },
  {
   "cell_type": "markdown",
   "metadata": {},
   "source": [
    "#### Numpy datatype ndarray"
   ]
  },
  {
   "cell_type": "markdown",
   "metadata": {},
   "source": [
    "* 행렬이나 다차원 배열 처리용 파이썬 라이브러리\n",
    "* 같은 타입의 데이터만 허용\n",
    "* 리스트에 비해 20배 이상 빠른 속도"
   ]
  },
  {
   "cell_type": "code",
   "execution_count": 8,
   "metadata": {},
   "outputs": [
    {
     "data": {
      "text/plain": [
       "array([1., 1., 1., 1.])"
      ]
     },
     "metadata": {},
     "output_type": "display_data"
    },
    {
     "data": {
      "text/plain": [
       "array([[1., 1., 1., 1.],\n",
       "       [1., 1., 1., 1.],\n",
       "       [1., 1., 1., 1.]])"
      ]
     },
     "metadata": {},
     "output_type": "display_data"
    },
    {
     "data": {
      "text/plain": [
       "array([[[1., 1., 1., 1.],\n",
       "        [1., 1., 1., 1.],\n",
       "        [1., 1., 1., 1.]],\n",
       "\n",
       "       [[1., 1., 1., 1.],\n",
       "        [1., 1., 1., 1.],\n",
       "        [1., 1., 1., 1.]]])"
      ]
     },
     "metadata": {},
     "output_type": "display_data"
    }
   ],
   "source": [
    "import numpy as np\n",
    "\n",
    "display(np.ones(4))\n",
    "display(np.ones((3, 4)))\n",
    "display(np.ones((2, 3, 4)))\n"
   ]
  },
  {
   "cell_type": "markdown",
   "metadata": {},
   "source": [
    "![alt text](images/ndim.png)"
   ]
  },
  {
   "cell_type": "markdown",
   "metadata": {},
   "source": [
    "- Create numpy objects"
   ]
  },
  {
   "cell_type": "code",
   "execution_count": 9,
   "metadata": {},
   "outputs": [
    {
     "name": "stdout",
     "output_type": "stream",
     "text": [
      "[1, 2, 3]\n",
      "<class 'list'>\n",
      "[1 2 3]\n",
      "int64\n",
      "(3,)\n",
      "<class 'numpy.ndarray'>\n"
     ]
    }
   ],
   "source": [
    "import numpy as np\n",
    "\n",
    "arr = [1, 2, 3]\n",
    "print(arr)\n",
    "print(type(arr))\n",
    "\n",
    "a = np.array([1,2,3])\n",
    "print(a)\n",
    "print(a.dtype)\n",
    "print(a.shape)\n",
    "print(type(a))"
   ]
  },
  {
   "cell_type": "code",
   "execution_count": null,
   "metadata": {},
   "outputs": [
    {
     "name": "stdout",
     "output_type": "stream",
     "text": [
      "[[1 2 3]\n",
      " [4 5 6]]\n",
      "<class 'numpy.ndarray'>\n",
      "(2, 3)\n",
      "int64\n"
     ]
    }
   ],
   "source": [
    "arr2 = np.array([[1,2,3], [4,5,6]])\n",
    "print(arr2)\n",
    "print(type(arr2))\n",
    "print(arr2.shape)\n",
    "print(arr2.dtype)"
   ]
  },
  {
   "cell_type": "markdown",
   "metadata": {},
   "source": [
    "* numpy 자료형\n",
    "    * 부호가 있는 정수 int(8, 16, 32, 64)\n",
    "    * 부호가 없는 정수 uint(8 ,16, 32, 54)\n",
    "    * 실수 float(16, 32, 64, 128)\n",
    "    * 복소수 complex(64, 128, 256)\n",
    "    * 불리언 bool\n",
    "    * 문자열 string_\n",
    "    * 파이썬 오프젝트 object\n",
    "    * 유니코드 unicode_"
   ]
  },
  {
   "cell_type": "markdown",
   "metadata": {},
   "source": [
    "* np.zeros(), np.ones(), np.arange()\n",
    "* 행렬 연산 지원"
   ]
  },
  {
   "cell_type": "code",
   "execution_count": null,
   "metadata": {},
   "outputs": [
    {
     "name": "stdout",
     "output_type": "stream",
     "text": [
      "[[1 2 3]\n",
      " [4 5 6]\n",
      " [7 8 9]]\n",
      "[[1 1 1 1]\n",
      " [1 1 1 1]\n",
      " [1 1 1 1]]\n",
      "[[1 1 1 1]\n",
      " [1 1 1 1]\n",
      " [1 1 1 1]]\n",
      "[[2 2 2 2]\n",
      " [2 2 2 2]\n",
      " [2 2 2 2]]\n",
      "[[0 0 0 0]\n",
      " [0 0 0 0]\n",
      " [0 0 0 0]]\n"
     ]
    }
   ],
   "source": [
    "a = np.arange(1, 10).reshape(3,3) # [1, 10)\n",
    "print(a)\n",
    "a = np.ones((3,4), dtype=np.int16)\n",
    "b = np.ones((3,4), dtype=np.int16)\n",
    "print(a)\n",
    "print(b)\n",
    "print(a+b)\n",
    "print(a-b)"
   ]
  },
  {
   "cell_type": "markdown",
   "metadata": {},
   "source": [
    "* numpy 함수\n",
    "    * np.sqrt()\n",
    "    * np.log()\n",
    "    * np.square()\n",
    "    * np.log()\n",
    "    * np.ceil()\n",
    "    * np.floor()\n",
    "    * np.isnan()\n",
    "    * np.sum()\n",
    "    * np.mean()\n",
    "    * np.std()\n",
    "    * np.min()"
   ]
  },
  {
   "cell_type": "markdown",
   "metadata": {
    "id": "FUcayns6oCig"
   },
   "source": [
    "### Linear regression"
   ]
  },
  {
   "cell_type": "markdown",
   "metadata": {
    "id": "3ofrocdnoFeA"
   },
   "source": [
    "#### Simple linear regression\n",
    "\n",
    "- Model  \n",
    "$$\n",
    "y_i = b_0 + b_1 x_i  + \\epsilon_i \\text{ where } \\epsilon_i \\sim \\text{ iid } N(0, \\sigma^2)\n",
    "$$\n",
    "\n",
    "- parameters\n",
    "\n",
    "$$\n",
    "\\theta = \\{ b_0, b_1 \\}\n",
    "$$\n",
    "\n",
    "- Find $\\theta$ that minimize residuals\n",
    "\n",
    "$$\n",
    "\\sum_{i=i}^n r_i^2 = \\sum_{i=1}^n (y_i - \\hat{y}_i)^2  \\\\\n",
    "\\sum_{i=1}^n (y_i - \\hat{b_1}x_i - \\hat{b_0})^2\n",
    "$$\n",
    "\n",
    "\n",
    "- residuals: difference between sample observed and estimated values"
   ]
  },
  {
   "cell_type": "code",
   "execution_count": 4,
   "metadata": {
    "colab": {
     "base_uri": "https://localhost:8080/"
    },
    "id": "ydJc8E__OXxU",
    "outputId": "51a68395-b376-4454-c9d8-79aa32dc3f97"
   },
   "outputs": [
    {
     "data": {
      "image/png": "[encoded data removed]",
      "text/plain": [
       "<Figure size 640x480 with 1 Axes>"
      ]
     },
     "metadata": {},
     "output_type": "display_data"
    }
   ],
   "source": [
    "import numpy as np\n",
    "\n",
    "np.random.seed(123)\n",
    "X = 2 * np.random.rand(20, 1)\n",
    "Y = 4 + X*0.8 + np.random.rand(20, 1)\n",
    "\n",
    "X_b = np.c_[np.ones(len(X)), X]\n",
    "# print(X)\n",
    "theta_best = np.linalg.inv(X_b.T @ X_b) @ (X_b.T) @ Y\n",
    "Y_pred_org = X_b @ theta_best\n",
    "# print(theta_best)\n",
    "\n",
    "X_new = 2 * np.random.rand(100, 1)\n",
    "X_new_b = np.c_[np.ones(len(X_new)), X_new]\n",
    "Y_pred = X_new_b @ theta_best\n",
    "\n",
    "import matplotlib.pyplot as plt\n",
    "plt.scatter(X, Y, color=\"#000000\")\n",
    "plt.plot(X_new, Y_pred, color='#cccccc', label='Predictions')\n",
    "\n",
    "# Plot residuals\n",
    "for i in range(len(Y)):\n",
    "    plt.vlines(x=X[i], ymin=min(Y[i], Y_pred_org[i]), ymax=max(Y[i], Y_pred_org[i]), color='green', linestyle='dotted')\n",
    "\n",
    "\n",
    "plt.xlabel('X')\n",
    "plt.ylabel('Y')\n",
    "plt.plot()\n",
    "plt.show()\n"
   ]
  },
  {
   "cell_type": "markdown",
   "metadata": {
    "id": "iTsPdh--WTLy"
   },
   "source": [
    "### Ordinary least sequare (OLS)\n",
    "\n",
    "\n",
    "- Model  \n",
    "\n",
    "$$\n",
    "y_i = b_0 + b_1 x_i  + \\epsilon_i \\text{ where } \\epsilon_i \\sim \\text{ iid } N(0, \\sigma^2), i = 1, 2, ..., n\n",
    "$$\n",
    "\n",
    "$$\n",
    "\\begin{pmatrix}\n",
    "y_1 \\\\\n",
    "y_2 \\\\\n",
    "... \\\\\n",
    "y_n \\\\\n",
    "\\end{pmatrix} \n",
    "=\n",
    "\\begin{pmatrix}\n",
    "1 \\ \\ x_1 \\\\\n",
    "1 \\ \\ x_2 \\\\\n",
    "... \\\\\n",
    "1 \\ \\ x_n \\\\\n",
    "\\end{pmatrix}\n",
    "\n",
    "\\begin{pmatrix}\n",
    "b_0 \\\\\n",
    "b_1 \\\\\n",
    "\\end{pmatrix}\n",
    "\n",
    "+\n",
    "\n",
    "\n",
    "\\begin{pmatrix}\n",
    "\\epsilon_1 \\\\\n",
    "\\epsilon_2 \\\\\n",
    "... \\\\\n",
    "\\epsilon_n \\\\\n",
    "\\end{pmatrix}\n",
    "$$\n",
    "\n",
    "$$\n",
    "Y = X \\beta + \\epsilon\n",
    "$$\n"
   ]
  },
  {
   "cell_type": "markdown",
   "metadata": {},
   "source": [
    "\n",
    "$$\n",
    "\\mathbf{\\epsilon} = Y - X\\beta \n",
    "$$\n",
    "\n",
    "- Residual Sum of Squares (RSS)\n",
    "\n",
    "$$\n",
    "RSS = (Y-X\\beta)^T(Y-X\\beta)\n",
    "$$\n",
    "\n",
    "- Take the gradient with respect to $\\beta$ and set it to zero (Normal equation)\n",
    "\n",
    "$$\n",
    "\\frac{\\partial RSS}{\\partial \\beta} = -2 X^T Y + 2 X^T X \\beta = 0\n",
    "$$\n",
    "\n",
    "- Solve for $\\beta$ if $(X^TX)^{-1}$ exists\n",
    "\n",
    "$$\n",
    "(X^T X) \\beta = X^T Y\n",
    "$$\n",
    "\n",
    "$$\n",
    "\\hat{\\beta} = (X^T X)^{-1} X^T Y\n",
    "$$\n",
    "\n",
    "\n"
   ]
  },
  {
   "cell_type": "markdown",
   "metadata": {},
   "source": [
    "### Maximum Likelihood Estimation (MLE)\n",
    "\n",
    "- Details: https://statproofbook.github.io/P/slr-mle.html\n",
    "- Consider the regression as a joint probability model\n",
    "\n",
    "- **Reasons to use**\n",
    "    - This framework is applicable to other complex models (non-linear, neural network)\n",
    "\n",
    "- Bayes rule where $D$ is data, $\\theta$ is parameter\n",
    "\n",
    "$$\n",
    "p(\\theta | D) = \\frac{p(D|\\theta) p(\\theta)}{p(D)}\n",
    "$$\n",
    "\n",
    "$$\n",
    "\\text{where $p(\\theta|D)$, $p(D|\\theta)$, $p(\\theta)$ are posterior, likelihood and prior, respectively}\n",
    "$$\n",
    "\n",
    "$$\n",
    "p(\\theta | D) \\propto p(D|\\theta) \n",
    "$$\n",
    "\n",
    "- Regarding the likelihood, $p(Y|X, \\theta)$ is interpreted as how the behaviour of the response $Y$ is conditional on the values of the feature, $X$, and parameters, $\\theta$ \n",
    "\n",
    "$$\n",
    "\\begin{align}\n",
    "p(Y | X, \\theta)  = \\prod_{i=1}^n p( y_i | x_i, \\hat{\\theta})\n",
    "\\end{align}\n",
    "$$\n",
    "\n",
    "- Then, we can ask what is the probability of seeing the data, given a specific set of parameters? (== How the data likely to be observed given the parameters == which parameters maximize the likelihood)\n",
    "\n",
    "$$\n",
    "\\hat{\\theta} = \\text{argmax}_\\theta \\text{ log } \\sum_{i=1}^n p( y_i | x_i, \\theta)\n",
    "$$\n",
    "\n",
    "- For $p(y_i | x_i, \\theta)$, we have assumption that all feature vectors are iid\n",
    "\n",
    "$$\n",
    "Y \\sim N(X\\beta, \\sigma)\n",
    "$$\n",
    "\n",
    "\n",
    "$$\n",
    "\\begin{align}\n",
    "p( y_i | x_i, \\theta) &= N(y_i; X\\beta, \\sigma^2) \\\\\n",
    "&= \\frac{1}{\\sqrt{2\\pi \\sigma^2}} \\exp{\\left( - \\frac{(y_i - b_0 - b_1 x_i)^2}{2 \\sigma^2} \\right)}\n",
    "\\end{align}\n",
    "$$\n"
   ]
  },
  {
   "cell_type": "markdown",
   "metadata": {},
   "source": [
    "\n",
    "- Log likelihood (LL) function\n",
    "\n",
    "$$\n",
    "\\begin{align}\n",
    "LL(\\theta) &= \\text{ log } \\left( \\prod_{i=1}^n p( y_i | x_i, \\theta) \\right) \\\\\n",
    "&= \\text{ log } \\left( \\prod_{i=1}^n \\frac{1}{\\sqrt{2\\pi \\sigma^2}} \\exp{ \\left(- \\frac{(y_i - b_0 - b_1 x_i)^2}{2 \\sigma^2} \\right)} \\right) \\\\\n",
    "&= \\text{ log } \\left( \\frac{1}{\\sqrt{(2\\pi\\sigma^2)^n}} \\exp{ \\left( - \\frac{1}{2\\sigma^2} \\sum_{i=1}^n (y_i - b_0 - b_1 x_i)^2 \\right)} \\right) \\\\\n",
    "&= - \\frac{n}{2} \\log(2\\pi) - \\frac{n}{2} \\log(\\sigma^2) - \\frac{1}{2\\sigma^2} \\sum_{i=1}^n (y_i - b_0 - b_1 x_i)^2\n",
    "\\end{align}\n",
    "$$"
   ]
  },
  {
   "cell_type": "markdown",
   "metadata": {},
   "source": [
    "\n",
    "- Take the gradient with respect to $\\beta$ and set it to zero (OLS)\n",
    "\n",
    "$$\n",
    "\\frac{\\partial LL(b_0, b_1, \\sigma^2)}{\\partial b_0} = \\frac{1}{\\sigma^2} \\sum_{i=1}^n (y_i - b_0 - b_1 x_i)\n",
    "$$\n",
    "\n",
    "$$\n",
    "\\begin{align}\n",
    "\\frac{\\partial LL(\\hat{b}_0, \\hat{b}_1, \\sigma^2)}{\\partial b_0}  = 0 \\\\\n",
    "\\sum_{i=1}^n (y_i - \\hat{b}_0 - \\hat{b}_1 x_i) = 0 \\\\\n",
    "\\hat{b}_0 = \\frac{1}{n}\\sum_{i=1}^n y_i - \\hat{b}_1 \\frac{1}{n} \\sum_{i=1}^n x_i \\\\\n",
    "\\end{align}\n",
    "$$\n",
    "\n"
   ]
  },
  {
   "cell_type": "markdown",
   "metadata": {},
   "source": [
    "$$\n",
    "\\frac{\\partial LL(\\hat{b}_0, b_1, \\sigma^2)}{\\partial b_1} = \\frac{1}{\\sigma^2} \\sum_{i=1}^n (x_i y_i - \\hat{b}_0 x_i - b_1 x_i^2)\n",
    "$$\n",
    "\n",
    "$$\n",
    "\\begin{align}\n",
    "\\frac{\\partial LL(\\hat{b}_0, \\hat{b}_1, \\sigma^2)}{\\partial b_1}  = 0 \\\\\n",
    "\\hat{b}_1 = \\frac{\\sum_{i=1}^n (x_i - \\bar{x}) (y_i - \\bar{y})}{\\sum_{i=1}^n (x_i - \\bar{x})^2 }\n",
    "\\end{align}\n",
    "$$"
   ]
  },
  {
   "cell_type": "markdown",
   "metadata": {},
   "source": [
    "- Maximize with respect to $\\sigma^2$\n",
    "\n",
    "$$\n",
    "\\frac{\\partial LL(\\hat{b}_0, \\hat{b}_1, \\sigma^2)}{\\partial \\sigma^2} = - \\frac{n}{2 \\sigma^2} + \\frac{1}{2 (\\sigma^2)^2} \\sum_{i=1}^n (y_i - \\hat{b}_0 - \\hat{b}_1 x_i)^2\n",
    "$$\n",
    "\n",
    "$$\n",
    "\\frac{\\partial LL(\\hat{b}_0, \\hat{b}_1, \\hat{\\sigma}^2)}{\\partial \\sigma^2} = 0 \\\\\n",
    "\\hat{\\sigma}^2 = \\frac{1}{n} \\sum_{i=1}^n (y_i - \\hat{b}_0 - \\hat{b}_1 x_i)^2\n",
    "$$"
   ]
  },
  {
   "cell_type": "markdown",
   "metadata": {},
   "source": [
    "- In linear regression, MLE naturally leads to the OLS solution under the assumption of normally distributed residuals. \n",
    "\n",
    "$$\n",
    "\\hat{\\beta} = (X^T X)^{-1} X^T Y\n",
    "$$\n",
    "\n",
    "$$\n",
    "\\hat{\\sigma}^2 = \\frac{1}{n} (Y-X\\beta)^T (Y-X\\beta)\n",
    "$$\n"
   ]
  },
  {
   "cell_type": "markdown",
   "metadata": {},
   "source": [
    "- However, MLE’s flexibility (e.g. customizable likelihood) extends beyond linear models, making it indispensable for logistic regression, mixture models, and modern deep learning frameworks."
   ]
  },
  {
   "cell_type": "markdown",
   "metadata": {},
   "source": [
    "### Gradient Decent \n",
    "\n",
    "- An iterative optimization algorithm for adjusting $\\beta$ by minimizing a cost function. In linear regression, the cost function is the Mean Squared Error (MSE) under the assumption of normally distributed residuals."
   ]
  },
  {
   "cell_type": "markdown",
   "metadata": {},
   "source": [
    "- Define a cost function $J(\\theta)$\n",
    "\n",
    "$$\n",
    "LL(\\theta) = - \\frac{n}{2} \\log(2\\pi) - \\frac{n}{2} \\log(\\sigma^2) - \\frac{1}{2\\sigma^2} \\sum_{i=1}^n (y_i - b_0 - b_1 x_i)^2 \n",
    "$$\n",
    "\n",
    "$$\n",
    "J(\\beta) =  \\sum_{i=1}^n (y_i - b_0 - b_1 x_i)^2 \n",
    "$$"
   ]
  },
  {
   "cell_type": "markdown",
   "metadata": {},
   "source": [
    "- matrix notation\n",
    "\n",
    "$$\n",
    "J(\\beta) = || Y - X\\beta ||^2 = (Y - X\\beta)^T(Y - X\\beta)\n",
    "$$\n",
    "\n",
    "- L1 norm, L2 norm (a metric for length or magnitude of a vector/matrix)\n",
    "$$\n",
    "||X||_1 = \\sum_{i}^n |x_i|\n",
    "$$\n",
    "\n",
    "$$\n",
    "||X||_2 = \\sqrt{\\sum_i^n x_i^2}\n",
    "$$"
   ]
  },
  {
   "cell_type": "markdown",
   "metadata": {},
   "source": [
    "$$\n",
    "J(\\beta) = Y^T Y - 2 Y^T X \\beta + \\beta^T X^T X \\beta\n",
    "$$\n",
    "\n",
    "- Gradient of the cost function\n",
    "\n",
    "$$\n",
    "\\nabla_\\beta J(\\beta) = \\frac{\\partial J(\\beta)}{\\partial \\beta}\n",
    "$$\n",
    "\n",
    "$$\n",
    "\\begin{align}\n",
    "\\nabla_\\beta J(\\beta) &= 0 - 2 X^T Y + 2 X^T X \\beta \\\\\n",
    "&= - 2 X^T(Y-X\\beta)\n",
    "\\end{align}\n",
    "$$"
   ]
  },
  {
   "cell_type": "markdown",
   "metadata": {},
   "source": [
    "- parameter update rule\n",
    "\n",
    "$$\n",
    "\\beta^{(t+1)} = \\beta^{(t)} - \\alpha \\nabla_\\beta J(\\beta) \\text{ where } \\alpha \\text{ is learning rate}\n",
    "$$\n"
   ]
  },
  {
   "cell_type": "code",
   "execution_count": 24,
   "metadata": {},
   "outputs": [
    {
     "name": "stdout",
     "output_type": "stream",
     "text": [
      "Estimated coefficients (beta): [[2.96262018]\n",
      " [3.80192916]]\n"
     ]
    },
    {
     "data": {
      "image/png": "[encoded data removed]",
      "text/plain": [
       "<Figure size 800x600 with 1 Axes>"
      ]
     },
     "metadata": {},
     "output_type": "display_data"
    }
   ],
   "source": [
    "import numpy as np\n",
    "import matplotlib.pyplot as plt\n",
    "\n",
    "# Generate synthetic data\n",
    "np.random.seed(42)\n",
    "X = 2 * np.random.rand(100, 1)  # 100 samples, 1 feature from [0, 1) uniform distribution\n",
    "y = 4 + 3 * X + np.random.randn(100, 1)  # y = 4 + 3X + noise (Gaussian noise)\n",
    "\n",
    "# Add bias term (intercept)\n",
    "X_b = np.c_[np.ones((X.shape[0], 1)), X]\n",
    "\n",
    "# Initialize parameters\n",
    "beta = np.random.randn(2, 1)  # Random initial coefficients\n",
    "learning_rate = 0.01\n",
    "n_iterations = 100\n",
    "m = X_b.shape[0]  # Number of samples\n",
    "\n",
    "beta_updates = [beta.copy()]\n",
    "\n",
    "# Gradient Descent\n",
    "for iteration in range(n_iterations):\n",
    "    gradients = -2/m * X_b.T @ (y - X_b @ beta)  # Compute gradient\n",
    "    beta = beta - learning_rate * gradients  # Update parameters\n",
    "    beta_updates.append(beta.copy())\n",
    "\n",
    "# Final parameters\n",
    "print(\"Estimated coefficients (beta):\", beta)\n",
    "\n",
    "# Predictions\n",
    "y_pred = X_b @ beta\n",
    "\n",
    "# Plot the data and regression line\n",
    "plt.figure(figsize=(8, 6))\n",
    "plt.scatter(X, y, color=\"blue\", label=\"Data points\")\n",
    "plt.plot(X, y_pred, color=\"red\", label=\"Regression line\")\n",
    "plt.xlabel(\"X\")\n",
    "plt.ylabel(\"y\")\n",
    "plt.title(\"Linear Regression using Gradient Descent\")\n",
    "plt.legend()\n",
    "plt.grid(True)\n",
    "plt.show()\n"
   ]
  },
  {
   "cell_type": "code",
   "execution_count": 21,
   "metadata": {},
   "outputs": [
    {
     "name": "stdout",
     "output_type": "stream",
     "text": [
      "Iteration 0: beta = [0.01300189 1.45353408]\n",
      "Iteration 1: beta = [0.12180499 1.56507648]\n",
      "Iteration 2: beta = [0.22633422 1.67181808]\n",
      "Iteration 3: beta = [0.32676535 1.77395782]\n",
      "Iteration 4: beta = [0.42326689 1.8716864 ]\n",
      "Iteration 5: beta = [0.5160004  1.96518667]\n",
      "Iteration 6: beta = [0.60512075 2.05463391]\n",
      "Iteration 7: beta = [0.69077645 2.14019616]\n",
      "Iteration 8: beta = [0.77310984 2.22203453]\n",
      "Iteration 9: beta = [0.85225741 2.30030345]\n",
      "Iteration 10: beta = [0.92835001 2.37515099]\n",
      "Iteration 11: beta = [1.00151308 2.44671909]\n",
      "Iteration 12: beta = [1.0718669  2.51514384]\n",
      "Iteration 13: beta = [1.13952675 2.58055569]\n",
      "Iteration 14: beta = [1.20460319 2.64307972]\n",
      "Iteration 15: beta = [1.26720221 2.70283582]\n",
      "Iteration 16: beta = [1.32742539 2.75993895]\n",
      "Iteration 17: beta = [1.38537016 2.81449929]\n",
      "Iteration 18: beta = [1.4411299 2.8666225]\n",
      "Iteration 19: beta = [1.49479416 2.91640985]\n",
      "Iteration 20: beta = [1.54644877 2.96395843]\n",
      "Iteration 21: beta = [1.59617603 3.00936133]\n",
      "Iteration 22: beta = [1.64405484 3.05270779]\n",
      "Iteration 23: beta = [1.69016085 3.09408334]\n",
      "Iteration 24: beta = [1.73456657 3.13357001]\n",
      "Iteration 25: beta = [1.77734155 3.17124641]\n",
      "Iteration 26: beta = [1.81855245 3.20718793]\n",
      "Iteration 27: beta = [1.85826316 3.24146681]\n",
      "Iteration 28: beta = [1.89653497 3.27415234]\n",
      "Iteration 29: beta = [1.93342661 3.30531092]\n",
      "Iteration 30: beta = [1.96899442 3.33500621]\n",
      "Iteration 31: beta = [2.00329239 3.36329925]\n",
      "Iteration 32: beta = [2.03637228 3.39024855]\n",
      "Iteration 33: beta = [2.06828373 3.4159102 ]\n",
      "Iteration 34: beta = [2.09907433 3.44033798]\n",
      "Iteration 35: beta = [2.1287897  3.46358343]\n",
      "Iteration 36: beta = [2.15747358 3.48569598]\n",
      "Iteration 37: beta = [2.1851679 3.506723 ]\n",
      "Iteration 38: beta = [2.21191288 3.52670991]\n",
      "Iteration 39: beta = [2.23774706 3.54570024]\n",
      "Iteration 40: beta = [2.26270741 3.56373574]\n",
      "Iteration 41: beta = [2.28682934 3.58085643]\n",
      "Iteration 42: beta = [2.31014685 3.59710066]\n",
      "Iteration 43: beta = [2.3326925 3.6125052]\n",
      "Iteration 44: beta = [2.35449751 3.62710531]\n",
      "Iteration 45: beta = [2.37559184 3.64093478]\n",
      "Iteration 46: beta = [2.39600419 3.65402601]\n",
      "Iteration 47: beta = [2.41576208 3.66641005]\n",
      "Iteration 48: beta = [2.43489191 3.67811668]\n",
      "Iteration 49: beta = [2.45341896 3.68917444]\n",
      "Iteration 50: beta = [2.47136752 3.69961069]\n",
      "Iteration 51: beta = [2.48876082 3.70945165]\n",
      "Iteration 52: beta = [2.50562118 3.71872248]\n",
      "Iteration 53: beta = [2.52196997 3.72744726]\n",
      "Iteration 54: beta = [2.53782769 3.73564912]\n",
      "Iteration 55: beta = [2.55321401 3.74335019]\n",
      "Iteration 56: beta = [2.56814776 3.75057171]\n",
      "Iteration 57: beta = [2.58264703 3.75733403]\n",
      "Iteration 58: beta = [2.59672912 3.76365667]\n",
      "Iteration 59: beta = [2.61041067 3.76955833]\n",
      "Iteration 60: beta = [2.62370759 3.77505693]\n",
      "Iteration 61: beta = [2.63663515 3.78016967]\n",
      "Iteration 62: beta = [2.64920801 3.78491302]\n",
      "Iteration 63: beta = [2.66144021 3.78930278]\n",
      "Iteration 64: beta = [2.6733452  3.79335407]\n",
      "Iteration 65: beta = [2.68493589 3.79708142]\n",
      "Iteration 66: beta = [2.69622467 3.80049874]\n",
      "Iteration 67: beta = [2.70722341 3.80361935]\n",
      "Iteration 68: beta = [2.71794348 3.80645605]\n",
      "Iteration 69: beta = [2.7283958  3.80902108]\n",
      "Iteration 70: beta = [2.73859083 3.81132618]\n",
      "Iteration 71: beta = [2.74853861 3.81338263]\n",
      "Iteration 72: beta = [2.75824876 3.8152012 ]\n",
      "Iteration 73: beta = [2.7677305  3.81679224]\n",
      "Iteration 74: beta = [2.77699268 3.81816566]\n",
      "Iteration 75: beta = [2.78604379 3.81933097]\n",
      "Iteration 76: beta = [2.79489196 3.82029728]\n",
      "Iteration 77: beta = [2.803545   3.82107331]\n",
      "Iteration 78: beta = [2.81201037 3.82166745]\n",
      "Iteration 79: beta = [2.82029527 3.82208769]\n",
      "Iteration 80: beta = [2.82840657 3.82234175]\n",
      "Iteration 81: beta = [2.83635086 3.82243698]\n",
      "Iteration 82: beta = [2.84413447 3.82238045]\n",
      "Iteration 83: beta = [2.85176348 3.82217893]\n",
      "Iteration 84: beta = [2.85924369 3.8218389 ]\n",
      "Iteration 85: beta = [2.8665807  3.82136659]\n",
      "Iteration 86: beta = [2.87377985 3.82076795]\n",
      "Iteration 87: beta = [2.88084627 3.8200487 ]\n",
      "Iteration 88: beta = [2.8877849  3.81921431]\n",
      "Iteration 89: beta = [2.89460044 3.81827003]\n",
      "Iteration 90: beta = [2.90129743 3.81722089]\n",
      "Iteration 91: beta = [2.90788021 3.8160717 ]\n",
      "Iteration 92: beta = [2.91435295 3.81482709]\n",
      "Iteration 93: beta = [2.92071965 3.81349148]\n",
      "Iteration 94: beta = [2.92698413 3.81206911]\n",
      "Iteration 95: beta = [2.93315007 3.81056405]\n",
      "Iteration 96: beta = [2.93922099 3.8089802 ]\n",
      "Iteration 97: beta = [2.94520029 3.80732128]\n",
      "Iteration 98: beta = [2.9510912  3.80559087]\n",
      "Iteration 99: beta = [2.95689684 3.8037924 ]\n",
      "Iteration 100: beta = [2.96262018 3.80192916]\n"
     ]
    },
    {
     "data": {
      "image/png": "[encoded data removed]",
      "text/plain": [
       "<Figure size 800x600 with 1 Axes>"
      ]
     },
     "metadata": {},
     "output_type": "display_data"
    }
   ],
   "source": [
    "# Visualize beta updates\n",
    "for i, beta in enumerate(beta_updates):\n",
    "    print(f\"Iteration {i}: beta = {beta.flatten()}\")\n",
    "\n",
    "# Plot convergence of coefficients\n",
    "beta_updates = np.array(beta_updates).squeeze()\n",
    "\n",
    "plt.figure(figsize=(8, 6))\n",
    "plt.plot(range(n_iterations + 1), beta_updates[:, 0], label='Intercept (beta[0])')\n",
    "plt.plot(range(n_iterations + 1), beta_updates[:, 1], label='Slope (beta[1])')\n",
    "plt.xlabel('Iteration')\n",
    "plt.ylabel('Value of beta')\n",
    "plt.title('Convergence of Coefficients')\n",
    "plt.legend()\n",
    "plt.grid(True)\n",
    "plt.show()\n"
   ]
  },
  {
   "cell_type": "markdown",
   "metadata": {
    "id": "8wtwFdEZe7OK"
   },
   "source": [
    "#### Reasons to use GD instead of MLE, OLS\n",
    "\n",
    "- Gradient Descent is favored over MLE or OLS in scenarios involving **large-scale data**, **high-dimensional features**, **non-linear models**, or **custom loss functions** due to its flexibility, efficiency, and scalability. However, for simple, small-scale problems, OLS or MLE may still be preferred for their directness and precision.\n",
    "\n"
   ]
  }
 ],
 "metadata": {
  "colab": {
   "provenance": []
  },
  "kernelspec": {
   "display_name": "kaist-prog",
   "language": "python",
   "name": "python3"
  },
  "language_info": {
   "codemirror_mode": {
    "name": "ipython",
    "version": 3
   },
   "file_extension": ".py",
   "mimetype": "text/x-python",
   "name": "python",
   "nbconvert_exporter": "python",
   "pygments_lexer": "ipython3",
   "version": "3.11.10"
  }
 },
 "nbformat": 4,
 "nbformat_minor": 0
}
